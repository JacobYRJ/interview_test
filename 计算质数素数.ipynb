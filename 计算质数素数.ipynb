{
 "cells": [
  {
   "cell_type": "code",
   "execution_count": null,
   "metadata": {
    "collapsed": false
   },
   "outputs": [],
   "source": [
    "#求10以内的质数（素数）\n",
    "\n",
    "def total_prime(n):\n",
    "    L = []\n",
    "    for i in range(1,n+1):\n",
    "        m = 0\n",
    "        for j in range(1,i+1):\n",
    "            if i%j == 0:\n",
    "                m = m + 1\n",
    "        if m == 2:\n",
    "            L.append(i)\n",
    "    print(L)\n",
    "    \n",
    "n = input('Please enter an number to calculate the prime')\n",
    "total_prime(int(n)\n",
    "                "
   ]
  },
  {
   "cell_type": "code",
   "execution_count": null,
   "metadata": {
    "collapsed": true
   },
   "outputs": [],
   "source": []
  }
 ],
 "metadata": {
  "kernelspec": {
   "display_name": "Python 3",
   "language": "python",
   "name": "python3"
  },
  "language_info": {
   "codemirror_mode": {
    "name": "ipython",
    "version": 3
   },
   "file_extension": ".py",
   "mimetype": "text/x-python",
   "name": "python",
   "nbconvert_exporter": "python",
   "pygments_lexer": "ipython3",
   "version": "3.6.0"
  }
 },
 "nbformat": 4,
 "nbformat_minor": 2
}
