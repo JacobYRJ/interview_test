{
 "cells": [
  {
   "cell_type": "code",
   "execution_count": 21,
   "metadata": {
    "collapsed": false
   },
   "outputs": [
    {
     "name": "stdout",
     "output_type": "stream",
     "text": [
      "2x\n"
     ]
    }
   ],
   "source": [
    "'''炮台攻击：\n",
    "小易有三台炮台，最大攻击范围为R，若有一台攻击到目标，则输出1x 第一个数字表示R，后面数字分别表示三台炮台和目标的二维坐标'''\n",
    "\n",
    "import math\n",
    "def detal(m,n):\n",
    "    l = abs(m[0] - n[0])\n",
    "    r = abs(m[1] - m[1])\n",
    "    dc = math.sqrt(l^2 + r^2)\n",
    "    return dc\n",
    "    \n",
    "def result(at):\n",
    "    a = [at[1], at[2]]\n",
    "    b = [at[3], at[4]]\n",
    "    c = [at[5], at[6]]\n",
    "    o = [at[7], at[8]]\n",
    "    R = int(at[0])\n",
    "    li = [a,b,c]\n",
    "    count = 0\n",
    "    for i in li:\n",
    "        if R >= detal(i, c):\n",
    "            count += 1\n",
    "    print(\"%dx\"%(count))\n",
    "\n",
    "\n",
    "A = [1,1,1,2,2,3,3,1,2]   \n",
    "result(A)\n",
    "    "
   ]
  },
  {
   "cell_type": "code",
   "execution_count": null,
   "metadata": {
    "collapsed": true
   },
   "outputs": [],
   "source": []
  }
 ],
 "metadata": {
  "kernelspec": {
   "display_name": "Python 3",
   "language": "python",
   "name": "python3"
  },
  "language_info": {
   "codemirror_mode": {
    "name": "ipython",
    "version": 3
   },
   "file_extension": ".py",
   "mimetype": "text/x-python",
   "name": "python",
   "nbconvert_exporter": "python",
   "pygments_lexer": "ipython3",
   "version": "3.6.0"
  }
 },
 "nbformat": 4,
 "nbformat_minor": 2
}
