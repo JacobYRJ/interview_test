{
 "cells": [
  {
   "cell_type": "code",
   "execution_count": 6,
   "metadata": {
    "collapsed": false
   },
   "outputs": [
    {
     "name": "stdout",
     "output_type": "stream",
     "text": [
      "100\n",
      "120\n",
      "no\n"
     ]
    }
   ],
   "source": [
    "#!/usr/bin/env python  \n",
    "# coding=utf-8  \n",
    "import math\n",
    "\n",
    "m = raw_input()\n",
    "n = raw_input()\n",
    "x = int(m)\n",
    "y = int(n)\n",
    "d = 0\n",
    "for i in range(x+1,y+1):\n",
    "    a = int(i/100) \n",
    "    b = int(i%100/10) \n",
    "    c = int(i%10) \n",
    "    s = a**3 + b**3 + c**3 \n",
    "    if i == s :\n",
    "        d = 1\n",
    "        print i,\n",
    "if d == 0:\n",
    "    print 'no',\n"
   ]
  },
  {
   "cell_type": "code",
   "execution_count": null,
   "metadata": {
    "collapsed": true
   },
   "outputs": [],
   "source": []
  }
 ],
 "metadata": {
  "kernelspec": {
   "display_name": "Python 2",
   "language": "python",
   "name": "python2"
  },
  "language_info": {
   "codemirror_mode": {
    "name": "ipython",
    "version": 2
   },
   "file_extension": ".py",
   "mimetype": "text/x-python",
   "name": "python",
   "nbconvert_exporter": "python",
   "pygments_lexer": "ipython2",
   "version": "2.7.13"
  }
 },
 "nbformat": 4,
 "nbformat_minor": 2
}
