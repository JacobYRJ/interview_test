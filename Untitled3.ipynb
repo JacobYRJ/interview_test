{
 "cells": [
  {
   "cell_type": "code",
   "execution_count": 30,
   "metadata": {
    "collapsed": false
   },
   "outputs": [
    {
     "name": "stdout",
     "output_type": "stream",
     "text": [
      "300\n",
      "380\n",
      "370\n",
      "371\n"
     ]
    }
   ],
   "source": [
    "import math\n",
    "\n",
    "m = input()\n",
    "n = input()\n",
    "x = int(m)\n",
    "y = int(n)\n",
    "d = 0\n",
    "for i in range(x+1,y+1):\n",
    "    a = int(i/100) \n",
    "    b = int(i%100/10) \n",
    "    c = int(i%10) \n",
    "    s = a**3 + b**3 + c**3 \n",
    "    if i == s :\n",
    "        d = 1\n",
    "        print(i)\n",
    "if d == 0:\n",
    "    print('no')"
   ]
  },
  {
   "cell_type": "code",
   "execution_count": null,
   "metadata": {
    "collapsed": true
   },
   "outputs": [],
   "source": []
  },
  {
   "cell_type": "code",
   "execution_count": null,
   "metadata": {
    "collapsed": true
   },
   "outputs": [],
   "source": []
  }
 ],
 "metadata": {
  "kernelspec": {
   "display_name": "Python 3",
   "language": "python",
   "name": "python3"
  }
 },
 "nbformat": 4,
 "nbformat_minor": 2
}
