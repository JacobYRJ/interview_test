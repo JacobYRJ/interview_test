{
 "cells": [
  {
   "cell_type": "code",
   "execution_count": 35,
   "metadata": {
    "collapsed": false
   },
   "outputs": [
    {
     "name": "stdout",
     "output_type": "stream",
     "text": [
      "110\n",
      "205\n"
     ]
    }
   ],
   "source": [
    "'''小易打怪升级，n表示怪物数量，c表示小易能力值，b1..bn表示怪物防御力，若小易能力大于或等于怪物防御力则获得怪物全部能力值bn，\n",
    "若小易越级挑战则获得怪物能力值bn和d当前能力值c的最大公约数。 第一个数表示怪物数量，第二个数表示c，后面表示b1..bn'''\n",
    "\n",
    "def gcb(x,y):\n",
    "    if x > y:\n",
    "        smaller = y\n",
    "    else:\n",
    "        smaller = x\n",
    "        \n",
    "    for i in range(1,smaller + 1):\n",
    "        if((x % i == 0) and (y % i == 0)):\n",
    "            gcb = i\n",
    "    return gcb\n",
    "    \n",
    "\n",
    "def power(a):\n",
    "    n = a[0]\n",
    "    c = a[1]\n",
    "    for b in a[2:]:\n",
    "        if b <= c:\n",
    "            c = c + b\n",
    "        else:\n",
    "            c = c + gcb(c,b)\n",
    "    \n",
    "    print(c)\n",
    "    \n",
    "A = [3,50,50,105,200]\n",
    "B = [5,20,30,20,15,40,100]\n",
    "\n",
    "power(A)\n",
    "power(B)"
   ]
  },
  {
   "cell_type": "code",
   "execution_count": null,
   "metadata": {
    "collapsed": true
   },
   "outputs": [],
   "source": []
  }
 ],
 "metadata": {
  "kernelspec": {
   "display_name": "Python 3",
   "language": "python",
   "name": "python3"
  },
  "language_info": {
   "codemirror_mode": {
    "name": "ipython",
    "version": 3
   },
   "file_extension": ".py",
   "mimetype": "text/x-python",
   "name": "python",
   "nbconvert_exporter": "python",
   "pygments_lexer": "ipython3",
   "version": "3.6.0"
  }
 },
 "nbformat": 4,
 "nbformat_minor": 2
}
