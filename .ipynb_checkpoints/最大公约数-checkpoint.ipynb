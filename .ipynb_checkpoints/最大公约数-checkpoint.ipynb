{
 "cells": [
  {
   "cell_type": "code",
   "execution_count": 9,
   "metadata": {
    "collapsed": false
   },
   "outputs": [
    {
     "name": "stdout",
     "output_type": "stream",
     "text": [
      "4\n"
     ]
    }
   ],
   "source": [
    "#最大公约数\n",
    "def greatest_comment(x,y):\n",
    "    if x < y:\n",
    "        smaller = x\n",
    "    else:\n",
    "        smaller = y\n",
    "    for i in range(1,smaller+1):\n",
    "        if ((x%i==0)and(y%i==0)):\n",
    "            gc = i\n",
    "    return gc\n",
    "    \n",
    "    \n",
    "#最大公约数两行实现\n",
    "def gcd(n1,n2):\n",
    "    return gcd(n2,n1%n2) if n2 > 0 else n1\n",
    "\n",
    "#最小公倍数\n",
    "def lcm(n1,n2):\n",
    "    \"\"\"lowest common multiple function\"\"\"\n",
    "    return n1 * n2 // gcd(n1, n2)\n",
    "\n",
    "print(gcd(12,16))"
   ]
  },
  {
   "cell_type": "code",
   "execution_count": null,
   "metadata": {
    "collapsed": true
   },
   "outputs": [],
   "source": []
  }
 ],
 "metadata": {
  "kernelspec": {
   "display_name": "Python 3",
   "language": "python",
   "name": "python3"
  },
  "language_info": {
   "codemirror_mode": {
    "name": "ipython",
    "version": 3
   },
   "file_extension": ".py",
   "mimetype": "text/x-python",
   "name": "python",
   "nbconvert_exporter": "python",
   "pygments_lexer": "ipython3",
   "version": "3.6.0"
  }
 },
 "nbformat": 4,
 "nbformat_minor": 2
}
